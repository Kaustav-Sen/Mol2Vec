{
 "cells": [
  {
   "cell_type": "markdown",
   "metadata": {},
   "source": [
    "# Generating XYZ File"
   ]
  },
  {
   "cell_type": "markdown",
   "metadata": {},
   "source": [
    "## Generating Experimental XYZ File"
   ]
  },
  {
   "cell_type": "code",
   "execution_count": 238,
   "metadata": {
    "scrolled": true
   },
   "outputs": [
    {
     "name": "stdout",
     "output_type": "stream",
     "text": [
      "Edited 84 molecule(s)\n"
     ]
    }
   ],
   "source": [
    "#Convert raw NASA Ames Data for Experimental PAH molecules to XYZ format \n",
    "f = open(\"pahdb-complete-experimental-v3.00_SDfqt0.ascii\",'r')\n",
    "s = f.read().split(\"###############################################################################\\n###############################################################################\")\n",
    "i = 1\n",
    "data = []\n",
    "element = {1:\"H\",6:\"C\",7:\"N\",8:\"O\"}\n",
    "num = 83\n",
    "file_num = 0\n",
    "g = open(\"ExperimentalXYZ.xyz\",'w')\n",
    "for i in range(1,len(s)) :\n",
    "    x = s[i].split(\"#\") #Split individual data into parts\n",
    "    UID = int(x[0].split('\\n')[1].split(' ')[1]) #Detect and store UID\n",
    "    name = x[2].split(' ')[4] #Detect and store name\n",
    "    #g = open(\"ExperimentalXYZ/\"+str(UID)+\".xyz\",'w')\n",
    "    for j in range(len(x)) :\n",
    "        if x[j] == \" GEOMETRY:\\n\" : #Detect location of coordinates - j+1\n",
    "            position = x[j+1]       #Coordinates\n",
    "            l = (position.split('\\n'))\n",
    "            D3Coord = str(len(l)-2)+\"\\n\"+str(UID)+\" - [\"+name+\"]\"\n",
    "            for k in range(1, len(l)-1) :\n",
    "                if k < 10 : \n",
    "                    data = element[int(l[k][-1])]+l[k][6:-9]\n",
    "                elif k < 100 :\n",
    "                    data = element[int(l[k][-1])]+l[k][7:-9]\n",
    "                elif k < 1000 : \n",
    "                    data = element[int(l[k][-1])]+l[k][8:-9]\n",
    "                #print(data)\n",
    "                D3Coord =  D3Coord + \"\\n\" + data\n",
    "                #print(k, D3Coord)\n",
    "    g.write(D3Coord)\n",
    "    g.write(\"\\n\")\n",
    "    file_num += 1\n",
    "print(f\"Generated file containing {file_num} molecule(s)\")\n",
    "# for j in range(len(x)) :\n",
    "#     print(j,x[j])"
   ]
  },
  {
   "cell_type": "markdown",
   "metadata": {},
   "source": [
    "## Generating Theoretical XYZ File"
   ]
  },
  {
   "cell_type": "code",
   "execution_count": 253,
   "metadata": {},
   "outputs": [
    {
     "name": "stdout",
     "output_type": "stream",
     "text": [
      "Edited 4233 molecule(s)\n"
     ]
    }
   ],
   "source": [
    "#Convert raw NASA Ames Data for Theoretical PAH molecules to XYZ format \n",
    "f = open(\"pahdb-complete-theoretical-v3.20_TsTF3p.ascii\",'r')\n",
    "s = f.read().split(\"###############################################################################\\n###############################################################################\")\n",
    "i = 1\n",
    "data = []\n",
    "element = {1:\"H\",6:\"C\",7:\"N\",8:\"O\",2:\"Mg\",4:\"Si\"}\n",
    "num = 83\n",
    "file_num = 0\n",
    "g = open(\"TheoreticalXYZ.xyz\",'w')\n",
    "for i in range(1,len(s)) :\n",
    "    x = s[i].split(\"#\") #Split individual data into parts\n",
    "    UID = int(x[0].split('\\n')[1].split(' ')[1]) #Detect and store UID\n",
    "    name = x[2].split(' ')[4] #Detect and store name\n",
    "    #g = open(\"ExperimentalXYZ/\"+str(UID)+\".xyz\",'w')\n",
    "    for j in range(len(x)) :\n",
    "        if x[j] == \" GEOMETRY:\\n\" : #Detect location of coordinates - j+1\n",
    "            position = x[j+1]       #Coordinates\n",
    "            l = (position.split('\\n'))\n",
    "            D3Coord = str(len(l)-2)+\"\\n\"+str(UID)+\" - [\"+name+\"]\"\n",
    "            for k in range(1, len(l)-1) :\n",
    "                #print(i)\n",
    "                if k < 10 : \n",
    "                    data = element[int(l[k][-1])]+l[k][6:-9]\n",
    "                elif k < 100 :\n",
    "                    data = element[int(l[k][-1])]+l[k][7:-9]\n",
    "                elif k < 1000 : \n",
    "                    data = element[int(l[k][-1])]+l[k][8:-9]\n",
    "                #print(data)\n",
    "                D3Coord =  D3Coord + \"\\n\" + data\n",
    "                #print(k, D3Coord)\n",
    "    g.write(D3Coord)\n",
    "    g.write(\"\\n\")\n",
    "    file_num += 1\n",
    "print(\"Edited \"+str(file_num)+\" molecule(s)\")\n",
    "\n",
    "\n"
   ]
  },
  {
   "cell_type": "markdown",
   "metadata": {},
   "source": [
    "## Confirm all XYZ molecules have been successfully converted to SMILES"
   ]
  },
  {
   "cell_type": "code",
   "execution_count": 7,
   "metadata": {},
   "outputs": [
    {
     "name": "stdout",
     "output_type": "stream",
     "text": [
      "Successful extraction of 4233 Molecules\n"
     ]
    }
   ],
   "source": [
    "theoretical_smiles = open(\"TheoreticalSMI.smi\",'r')\n",
    "data = theoretical_smiles.read().split('\\n')\n",
    "thpah = [i.split('\\t')[0] for i in data]\n",
    "#Comp is the last molecule in our dataset\n",
    "comp = \"c12c3c4c5c6c7c3c3c8c2c2c9c%10c%11c%12c%13c%14c%10c%10c2c2c8c8c%15c3c3c7c7c%16c6c6c%17c5c5c%18c4c4c1c9c1c%11c9c%11c%12c%12c%19c%13c%13c%20c%14c%14c%10c%10c2c2c8c8c%21c%22c2c2c%10c%10c%14c%14c%20[C@H]%20c%23c%13c%13c%19c%19[C@@H]%24c%12c%12c%11c%11c%25c9c9c1c4c1c%18c4c%18c5c5c%17[C@H]%17c%26c6c6c%16c%16[C@@H]%27c7c7c3c3c%15c8c8c%15[C@@H]%21c%21c%28[C@H]%22c%22c2c2c%10c%10[C@@H]%14c%14c%20c%20c%29c%30c%14c%14c%10c%10c2c2c%22c%22c%28c%28c%31c%21c%21c%15c%15c%32c8c3c3[C@@H]7c7c%27c8c%27c%16c%16c6c6c%26c%26c%33c%17c%17[C@H]5c5c%18c%18c%34c4c4c1c9c1c9c4[C@@H]4c%35c%36[C@@H]9c9c(c%251)c1c%11c%11[C@@H]%12c%12c%24c%24c%25c%19c%19c%13c%13c%23c%20c%20c%23c%29c%29c%37c%30c%30c%14c%14[C@H]%10C%10=C%38C=c%14cc%30cc%37ccc%29cc%23cc%14=CC%23=C([C@H]%13c%20%14)[C@H]%19c%13c%25c%14c%19c%24c%20c%12c%12c%11c%11c1c1c9c9c%36c%24c%25c%35c%29c(c%344)c4c%18c%18c5c5c%17c%17c%33c%30c%33c%26c%26[C@H]6C6=C(C=c%34c(c%27c%27c%35c8c8c7c7c3c%32[C@@H]3c%32c7c7c8c8c%35c(cc%27c%34)ccc8cc7cc%32=CC7=C3[C@@H]%15c3c%21c8c%31c%15c%21c%28c%27c%22c([C@@H]2%10)c(=C%38)cc%27cc%21ccc%15cc8cc3=C7)[C@@H]%166)C=c%26cc%33cc2c%30c3c%17c6c5c5[C@@H]%18C7=C(C=c5cc6cc3cc2)C=c2c([C@H]47)c%29c3c%25c4c5c%24c6c9c7[C@@H]1C1=C(C=c8c([C@H]%111)c%12c1c%20c9c%19c(cc%14cc%13=C%23)ccc9cc1c8)C=c7cc6cc5ccc4cc3c2\"\n",
    "if thpah[-1]==comp : print(\"Successful extraction of\",len(thpah),\"Molecules\")\n",
    "else : print(\"task Failed\")"
   ]
  },
  {
   "cell_type": "markdown",
   "metadata": {},
   "source": [
    "## Pruning Molecules that cannot handle RDKit Molecular Format"
   ]
  },
  {
   "cell_type": "code",
   "execution_count": 6,
   "metadata": {
    "tags": []
   },
   "outputs": [
    {
     "name": "stdout",
     "output_type": "stream",
     "text": [
      "Pruned 251 molecules and successfully generated molecular data of 3982 molecules out of 4233\n"
     ]
    }
   ],
   "source": [
    "from rdkit import Chem\n",
    "inf= {}\n",
    "molpah = []\n",
    "badindex1 = []\n",
    "acceptedsmiles=[]\n",
    "f = open(\"TheoreticalSMI_Pruned.smi\",'w')\n",
    "for i in range(4233) :\n",
    "    z = Chem.MolFromSmiles(thpah[i])\n",
    "    if z == None : #If z is None then the molecule cannot be converted to MOL format\n",
    "        badindex1.append(z)\n",
    "        continue\n",
    "    else :\n",
    "        molpah.append(z)\n",
    "        f.write(data[i]+'\\n')\n",
    "print(f\"Pruned {len(badindex1)} molecules and successfully generated molecular data of {len(molpah)} molecules out of {len(molpah) + len(badindex1)}\")"
   ]
  },
  {
   "cell_type": "markdown",
   "metadata": {},
   "source": [
    "# Pickling important data"
   ]
  },
  {
   "cell_type": "code",
   "execution_count": null,
   "metadata": {},
   "outputs": [],
   "source": [
    "# Generate molecular data\n",
    "input_type = 1 # 1 for Theoretical molecules, 2 for Experimental only \n",
    "if input_type == 2 :\n",
    "    mode = \"Experimental\"\n",
    "    g = open(f\"{mode}SMI.smi\",'r')\n",
    "elif input_type == 1 :\n",
    "    mode = \"Theoretical\"\n",
    "    g = open(f\"{mode}SMI_Pruned.smi\",'r')\n",
    "pah_smiles = [i.split('\\t')[0] for i in g.read().split('\\n')]\n",
    "g.seek(0)\n",
    "uids = [x.split('\\t')[1].split(' - ')[0] for x in g.read().split('\\n')]\n",
    "g.close()\n",
    "pah_mol = [Chem.MolFromSmiles(i) for i in pah_smiles]"
   ]
  },
  {
   "cell_type": "code",
   "execution_count": null,
   "metadata": {},
   "outputs": [],
   "source": [
    "# Generate and pickle substructure vectors\n",
    "from gensim.models import Word2Vec\n",
    "from sklearn.decomposition import PCA\n",
    "import matplotlib.pyplot as plt\n",
    "threshold = 1 #Substructures appearing less than threshold number of time will not be considered\n",
    "substructure_model = Word2Vec(sentences,min_count = threshold)\n",
    "f = open(\"Substructure_vectors.pkl\",'wb')\n",
    "pickle.dump(substructure_model,f)\n",
    "f.close()"
   ]
  },
  {
   "cell_type": "code",
   "execution_count": null,
   "metadata": {},
   "outputs": [],
   "source": [
    "# Generate and Pickle molecular vectors\n",
    "molvec = []\n",
    "for i in range(len(pah_mol)) :\n",
    "    mol = pah_mol[i]\n",
    "    bi = {}\n",
    "    vec=0\n",
    "    fpm = AllChem.GetMorganFingerprint(mol,radius,bitInfo = bi)\n",
    "    for j in list(bi) :\n",
    "        vec+=len(bi[j])*substructure_model.wv[j]\n",
    "    molvec.append(vec)\n",
    "print(\"Vectorised\",len(molvec),\"molecules\\n\")\n",
    "\n",
    "f = open(f\"{mode}_vectors.pkl\",'wb')\n",
    "pickle.dump(molvec,f)\n",
    "f.close()"
   ]
  },
  {
   "cell_type": "code",
   "execution_count": null,
   "metadata": {},
   "outputs": [],
   "source": [
    "# Generate and Pickle Molecule images\n",
    "pah_img = []\n",
    "count = 0\n",
    "blank = \"<svg></svg>\"\n",
    "for i in range(len(pah_mol)) :\n",
    "    try : \n",
    "        d2d = rdMolDraw2D.MolDraw2DSVG(150,150)\n",
    "        d2d.DrawMolecule(pah_mol[i])\n",
    "        d2d.FinishDrawing()\n",
    "        pah_img.append(d2d.GetDrawingText())\n",
    "        count += 1\n",
    "    except :\n",
    "        pah_img.append(blank)\n",
    "        print(\"Error here : \",i,uids[i])\n",
    "print(\"Generated SVG images for\",count,\"molecules\\n\")\n",
    "\n",
    "f = open(f\"{mode}_images.pkl\",'wb')\n",
    "pickle.dump(pah_img,f)\n",
    "f.close()"
   ]
  }
 ],
 "metadata": {
  "kernelspec": {
   "display_name": "Python 3",
   "language": "python",
   "name": "python3"
  },
  "language_info": {
   "codemirror_mode": {
    "name": "ipython",
    "version": 3
   },
   "file_extension": ".py",
   "mimetype": "text/x-python",
   "name": "python",
   "nbconvert_exporter": "python",
   "pygments_lexer": "ipython3",
   "version": "3.7.4"
  }
 },
 "nbformat": 4,
 "nbformat_minor": 4
}
